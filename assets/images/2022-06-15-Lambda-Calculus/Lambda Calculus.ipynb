{
 "cells": [
  {
   "cell_type": "markdown",
   "id": "bc7c595d",
   "metadata": {},
   "source": [
    "# Lambda Calculus for Humans\n",
    "\n",
    "## 前言\n",
    "\n",
    "这是一个写给正常人学习的$𝜆$演算教程，如果你搜索「Lambda 演算」，维基百科上的说明长这样：\n",
    "\n",
    "```\n",
    "0 = λf.λx.x\n",
    "1 = λf.λx.f x\n",
    "2 = λf.λx.f (f x)\n",
    "3 = λf.λx.f (f (f x))\n",
    "```\n",
    "\n",
    "然后你搜索「A Tutorial Introduction to the Lambda Calculus」，得到的结果更抽象了：\n",
    "\n",
    "$$\n",
    "\\begin{aligned}\n",
    "1 \\equiv& \\lambda s z .s(z) \\\\\n",
    "2 \\equiv& \\lambda s z .s(s(z)) \\\\\n",
    "3 \\equiv& \\lambda s z .s(s(s(z)))\\\\\n",
    "\\mathrm{S} \\equiv& \\lambda wyx.y(wyx)\\\\\n",
    "\\mathrm{S0} \\equiv& (\\lambda wyx.y(wyx))(\\lambda sz.z)\n",
    "\\end{aligned}\n",
    "$$\n",
    "\n",
    "研究表明，长时间观看这些抽象的算符会造成心理上的不适，并容易产生智商上的挫败感，这对正常人类的心智是有害的。\n",
    "\n",
    "因此我肩负着拯救人类的使命，写下了这一份「给正常人看的 $λ$-calculus教程」。\n",
    "\n",
    "## 函数式编程\n",
    "\n",
    "首先，让我们摒弃掉那些$α$-conversion、$β$-reduction、currying这些让人san值狂掉的术语，先来介绍一个更广为人知的术语「函数式编程」(Functional Calculus)，它的核心思想很简单：**用函数来表达一切**。\n",
    "\n",
    "传统编程范式中，我们面向的对象主要是变量，而在函数式编程中，我们面向的对象是函数，举个例子，我们定义一个`now`函数打印日期"
   ]
  },
  {
   "cell_type": "code",
   "execution_count": 1,
   "id": "46d00b65",
   "metadata": {},
   "outputs": [
    {
     "name": "stdout",
     "output_type": "stream",
     "text": [
      "Today is: 2022-6-11\n"
     ]
    }
   ],
   "source": [
    "def now(data):\n",
    "    print('Today is: ' + data)\n",
    "\n",
    "data = '2022-6-11'\n",
    "now(data)"
   ]
  },
  {
   "cell_type": "markdown",
   "id": "adc3c8cc",
   "metadata": {},
   "source": [
    "这就是一个非常传统的面向变量的函数：输入一个变量，然后对变量进行操作。\n",
    "\n",
    "函数式编程输入的就是一个函数，然后对函数进行操作，比如我们定义一个`log`函数打印输入函数的函数名："
   ]
  },
  {
   "cell_type": "code",
   "execution_count": 2,
   "id": "ef7b9310",
   "metadata": {},
   "outputs": [
    {
     "name": "stdout",
     "output_type": "stream",
     "text": [
      "now\n"
     ]
    }
   ],
   "source": [
    "def log(func):\n",
    "    print(func.__name__)\n",
    "\n",
    "log(now)"
   ]
  },
  {
   "cell_type": "markdown",
   "id": "fd41d987",
   "metadata": {},
   "source": [
    "但是这样有一点不好，那就是我们没法在调用`now`函数的同时也打印出函数名，因此我们将`log`函数稍微修改一下："
   ]
  },
  {
   "cell_type": "code",
   "execution_count": 3,
   "id": "4978c393",
   "metadata": {},
   "outputs": [
    {
     "name": "stdout",
     "output_type": "stream",
     "text": [
      "call now():\n",
      "Today is: 2022-6-11\n"
     ]
    }
   ],
   "source": [
    "def log(func):\n",
    "    def F(data):\n",
    "        print('call %s():' % func.__name__)\n",
    "        return func(data)\n",
    "    return F\n",
    "\n",
    "log(now)(data)"
   ]
  },
  {
   "cell_type": "markdown",
   "id": "62cdf0eb",
   "metadata": {},
   "source": [
    "这样将`log`函数变成了一个二阶函数，于是一切就OK了。\n",
    "\n",
    "PS：其实在Python中有一个更优雅的写法，那就是「装饰器」(Decorator)，本质就是额外执行了一个 `now = log(now)`"
   ]
  },
  {
   "cell_type": "code",
   "execution_count": 4,
   "id": "594daa96",
   "metadata": {},
   "outputs": [
    {
     "name": "stdout",
     "output_type": "stream",
     "text": [
      "call now():\n",
      "Today is: 2022-6-11\n"
     ]
    }
   ],
   "source": [
    "@log\n",
    "def now(data):\n",
    "    print('Today is: ' + data)\n",
    "\n",
    "now(data)"
   ]
  },
  {
   "cell_type": "markdown",
   "id": "10e78b0c",
   "metadata": {},
   "source": [
    "## 逻辑运算"
   ]
  },
  {
   "cell_type": "markdown",
   "id": "121984e9",
   "metadata": {},
   "source": [
    "### 数字编码\n",
    "\n",
    "在计算机中，我们可以用数字来编码`False`和`True`\n",
    "\n",
    "$$\n",
    "\\text{False} \\qquad \\longleftrightarrow \\qquad 0\n",
    "$$\n",
    "$$\n",
    "\\text{True} \\qquad \\longleftrightarrow \\qquad 1\n",
    "$$\n",
    "\n",
    "逻辑运算`not`、`and`和`or`也可以基于数字来实现\n",
    "\n",
    "$$\n",
    "\\text{not}\\ x \\qquad \\longleftrightarrow \\qquad 1-x \\quad \\ \\   $$\n",
    "$$\n",
    "x \\ \\text{and}\\ y \\qquad \\longleftrightarrow \\qquad x y \\qquad \\quad \\ \\\n",
    "$$\n",
    "$$\n",
    "x \\ \\text{or}\\ y \\qquad \\longleftrightarrow \\qquad x + y - x y\n",
    "$$\n",
    "\n",
    "那么问题就来了，我们可不可以用函数来编码`True`和`False`呢？"
   ]
  },
  {
   "cell_type": "markdown",
   "id": "3d8d8d7c",
   "metadata": {},
   "source": [
    "\n",
    "### True, False 的定义\n",
    "\n",
    "在传统函数思想中，True和False都是Bool变量，但在$λ$-演算中，所有的对象都是一个函数。\n",
    "\n",
    "因此我们使用两个函数来表示True和False：\n",
    "$$\n",
    "\\text{TRUE}(x,y) \\ = \\ x, \\quad \\quad \\text{FALSE}(x,y) \\ = \\ y\n",
    "$$\n",
    "为什么要这样定义呢？我们暂且不纠结这个问题，先来看下面这段代码"
   ]
  },
  {
   "cell_type": "code",
   "execution_count": 5,
   "id": "2d1f76e2",
   "metadata": {},
   "outputs": [
    {
     "name": "stdout",
     "output_type": "stream",
     "text": [
      "TRUE\n",
      "FALSE\n",
      "FALSE\n",
      "TRUE\n"
     ]
    }
   ],
   "source": [
    "def TRUE(x,y):\n",
    "    return x\n",
    "\n",
    "def FALSE(x,y):\n",
    "    return y\n",
    "\n",
    "print(TRUE(TRUE,FALSE).__name__)\n",
    "print(TRUE(FALSE,TRUE).__name__)\n",
    "print(FALSE(TRUE,FALSE).__name__)\n",
    "print(FALSE(FALSE,TRUE).__name__)"
   ]
  },
  {
   "cell_type": "markdown",
   "id": "6fc41524",
   "metadata": {},
   "source": [
    "我们看到了什么？`TRUE(TRUE,FALSE)`居然返回了函数`TRUE`本身！\n",
    "\n",
    "是不是有点感觉了，我们写一个`show`函数来作为解码器"
   ]
  },
  {
   "cell_type": "code",
   "execution_count": 6,
   "id": "456c8b34",
   "metadata": {},
   "outputs": [
    {
     "name": "stdout",
     "output_type": "stream",
     "text": [
      "TRUE\n",
      "FALSE\n"
     ]
    }
   ],
   "source": [
    "def show(f):\n",
    "    print(f(TRUE,FALSE).__name__)\n",
    "\n",
    "show(TRUE)\n",
    "show(FALSE)"
   ]
  },
  {
   "cell_type": "markdown",
   "id": "1a90cfe3",
   "metadata": {},
   "source": [
    "### Not, And, Or\n",
    "\n",
    "根据 True和 False 的定义，我们将两个变量的位置进行交换，便可定义出NOT函数\n",
    "$$\n",
    "\\text{NOT}(f)  \\ = \\ f(\\text{FALSE},\\text{TRUE}) \n",
    "$$"
   ]
  },
  {
   "cell_type": "code",
   "execution_count": 7,
   "id": "54cb98ec",
   "metadata": {},
   "outputs": [
    {
     "name": "stdout",
     "output_type": "stream",
     "text": [
      "FALSE\n",
      "TRUE\n"
     ]
    }
   ],
   "source": [
    "def NOT(f):\n",
    "    return f(FALSE,TRUE)\n",
    "\n",
    "show(NOT(TRUE))\n",
    "show(NOT(FALSE))"
   ]
  },
  {
   "cell_type": "markdown",
   "id": "5e4dec30",
   "metadata": {},
   "source": [
    "`NOT(TRUE)`返回了函数`FALSE`，而`NOT(FALSE)`返回了函数`TRUE`！\n",
    "\n",
    "那么你先不往下看，能自己想象出怎么定义`AND`函数吗？"
   ]
  },
  {
   "cell_type": "code",
   "execution_count": 8,
   "id": "9a5cf949",
   "metadata": {},
   "outputs": [],
   "source": [
    "def AND(f,g):\n",
    "    pass"
   ]
  },
  {
   "cell_type": "markdown",
   "id": "08bd15d8",
   "metadata": {},
   "source": [
    "`AND(f,g)==TRUE` 函数要求`f`和`g`都是TRUE，当`f`为FALSE时，会返回第二个参数，因为我们可以返回 `f(?,f)`。\n",
    "\n",
    "如果`f`为TRUE，返回第一个参数中的`?`，我们可以将`?`设为`g`本身，即\n",
    "\n",
    "$$\n",
    "\\text{AND}(f,g) \\ = \\ f(\\,g, f)\n",
    "$$"
   ]
  },
  {
   "cell_type": "code",
   "execution_count": 9,
   "id": "00965ba7",
   "metadata": {},
   "outputs": [
    {
     "name": "stdout",
     "output_type": "stream",
     "text": [
      "TRUE\n",
      "FALSE\n",
      "FALSE\n",
      "FALSE\n"
     ]
    }
   ],
   "source": [
    "def AND(f,g): \n",
    "    return f(g,f)\n",
    "\n",
    "show(AND(TRUE,TRUE))\n",
    "show(AND(TRUE,FALSE))\n",
    "show(AND(FALSE,TRUE))\n",
    "show(AND(FALSE,FALSE))"
   ]
  },
  {
   "cell_type": "markdown",
   "id": "1ed4cfc3",
   "metadata": {},
   "source": [
    "OR函数也是类似的：\n",
    "\n",
    "$$\n",
    "\\text{OR}(f,g) \\ = \\ f(f,g )\n",
    "$$"
   ]
  },
  {
   "cell_type": "code",
   "execution_count": 10,
   "id": "340af658",
   "metadata": {},
   "outputs": [],
   "source": [
    "def OR(f,g):  \n",
    "    return f(f,g)\n",
    "\n",
    "assert OR(TRUE,TRUE) is TRUE\n",
    "assert OR(TRUE,FALSE) is TRUE\n",
    "assert OR(FALSE,TRUE) is TRUE\n",
    "assert OR(FALSE,FALSE) is FALSE"
   ]
  },
  {
   "cell_type": "markdown",
   "id": "522e92d4",
   "metadata": {},
   "source": [
    "### 柯里化(Currying)\n",
    "\n",
    "柯里化就是将所有的函数变成只有一个参数，例如一个双参数函数$f(x,y)$，我们将其变成一个二阶函数$F(x)(y)$"
   ]
  },
  {
   "cell_type": "code",
   "execution_count": 11,
   "id": "8be5dce0",
   "metadata": {},
   "outputs": [
    {
     "name": "stdout",
     "output_type": "stream",
     "text": [
      "xy\n",
      "xy\n"
     ]
    }
   ],
   "source": [
    "def f(x,y):\n",
    "    return x+y\n",
    "\n",
    "def F(x):\n",
    "    def Fx(y):\n",
    "        return x+y\n",
    "    return Fx\n",
    "\n",
    "print(f('x','y'))\n",
    "print(F('x')('y'))"
   ]
  },
  {
   "cell_type": "markdown",
   "id": "049786ac",
   "metadata": {},
   "source": [
    "我们可以将之前的逻辑函数都写成柯里化的形式\n",
    "\n",
    "$$\n",
    "N(f,x,y) \\ = \\ f(y,x) \n",
    "$$\n",
    "\n",
    "\n",
    "$$\n",
    "A(f,g,x,y) \\ = \\ f(\\,g(x,y) , y)\n",
    "$$\n",
    "\n",
    "\n",
    "$$\n",
    "O(f,g,x,y) \\ = \\ f(x,\\,g(x,y) )\n",
    "$$\n"
   ]
  },
  {
   "cell_type": "code",
   "execution_count": 12,
   "id": "a5ada531",
   "metadata": {},
   "outputs": [],
   "source": [
    "def T(x):\n",
    "    return lambda y: x\n",
    "\n",
    "def F(x):\n",
    "    return lambda y: y\n",
    "\n",
    "def N(f):\n",
    "    return f(F)(T)\n",
    "\n",
    "def A(f):\n",
    "    return lambda g: f(g)(f)\n",
    "\n",
    "def O(f):\n",
    "    return lambda g: f(f)(g)\n",
    "\n",
    "assert T(True)(False) is True\n",
    "assert F(True)(False) is False\n",
    "assert N(T) is F\n",
    "assert N(F) is T\n",
    "assert A(T)(T) is T\n",
    "assert A(T)(F) is F\n",
    "assert O(T)(F) is T\n",
    "assert O(F)(F) is F"
   ]
  },
  {
   "cell_type": "markdown",
   "id": "877cf2c4",
   "metadata": {},
   "source": [
    "我们也可以写一个`curry`函数将`f(x,y)`转化成柯里化的版本`F(x)(y)`"
   ]
  },
  {
   "cell_type": "code",
   "execution_count": 13,
   "id": "4c049b46",
   "metadata": {},
   "outputs": [
    {
     "name": "stdout",
     "output_type": "stream",
     "text": [
      "xy\n"
     ]
    }
   ],
   "source": [
    "def curry(f):\n",
    "    return lambda x: lambda y: f(x,y)\n",
    "\n",
    "F = curry(f)\n",
    "print(F('x')('y'))"
   ]
  },
  {
   "cell_type": "markdown",
   "id": "72391e75",
   "metadata": {},
   "source": [
    "在经过非平凡的思考（参考 https://zh.javascript.info/currying-partials ）之后，我们可以写出柯里化函数`curry`的通用形式："
   ]
  },
  {
   "cell_type": "code",
   "execution_count": 14,
   "id": "f986f316",
   "metadata": {},
   "outputs": [],
   "source": [
    "def curry(f):\n",
    "    def curried(*args):\n",
    "#         print('---',*args,'---')\n",
    "        if (len(args) == f.__code__.co_argcount):\n",
    "            return f(*args)\n",
    "        else:\n",
    "            return lambda *args2: curried(*args,*args2)\n",
    "    return curried"
   ]
  },
  {
   "cell_type": "markdown",
   "id": "e4f14bd8",
   "metadata": {},
   "source": [
    "\n",
    "这里的`f.__code__.co_argcount`返回`f`定义时的参数个数，例如`f3.__code__.co_argcount=3`。\n",
    "\n",
    "这段代码的思想就是当`f`的输入参数个数`len(args)` 与定义参数个数`f.__code__.co_argcount`一致时，就直接输出`f(*args)`。\n",
    "\n",
    "当参数不够时，就先把当前参数`*args`传进去，再递归调用外面一层的参数`*args2`。"
   ]
  },
  {
   "cell_type": "code",
   "execution_count": 15,
   "id": "bc9787fb",
   "metadata": {},
   "outputs": [
    {
     "name": "stdout",
     "output_type": "stream",
     "text": [
      "x\n",
      "xy\n",
      "xyz\n",
      "10\n",
      "10\n",
      "10\n"
     ]
    }
   ],
   "source": [
    "f1 = lambda x: x\n",
    "F1 = curry(f1)\n",
    "print(F1('x'))\n",
    "\n",
    "f2 = lambda x,y: x+y\n",
    "F2 = curry(f2)\n",
    "print(F2('x')('y'))\n",
    "\n",
    "f3 = lambda x,y,z: x+y+z\n",
    "F3 = curry(f3)\n",
    "print(F3('x')('y')('z'))\n",
    "\n",
    "f4 = lambda x,y,z,w: x+y+z+w\n",
    "F4 = curry(f4)\n",
    "print(F4(1)(2)(3)(4))\n",
    "print(F4(1,2)(3)(4))\n",
    "print(F4(1,2,3,4))"
   ]
  },
  {
   "cell_type": "markdown",
   "id": "a0a276f5",
   "metadata": {},
   "source": [
    "如果你难以理解的话，可以取消掉`curry`函数中的注释，观察每次调用时传入的参数。\n",
    "\n",
    "我们可以直接用`curry`函数将逻辑函数柯里化，当然，这和我们在上面直接定义的柯里化逻辑函数有着细微的区别，不过这并不重要。"
   ]
  },
  {
   "cell_type": "code",
   "execution_count": 16,
   "id": "3ccef113",
   "metadata": {},
   "outputs": [
    {
     "name": "stdout",
     "output_type": "stream",
     "text": [
      "TRUE\n",
      "FALSE\n",
      "FALSE\n",
      "FALSE\n",
      "TRUE\n"
     ]
    }
   ],
   "source": [
    "T = curry(TRUE)\n",
    "F = curry(FALSE)\n",
    "N = curry(NOT)\n",
    "A = curry(AND)\n",
    "O = curry(OR)\n",
    "\n",
    "assert T(True)(False) is True\n",
    "assert F(True)(False) is False\n",
    "assert N(T) is FALSE\n",
    "assert N(F) is TRUE\n",
    "assert A(T)(T) is T\n",
    "assert A(T)(F) is F\n",
    "assert O(T)(F) is T\n",
    "assert O(F)(F) is F\n",
    "\n",
    "def show(f):\n",
    "    print(f(TRUE,FALSE).__name__)\n",
    "    \n",
    "show(T)\n",
    "show(F)\n",
    "show(N(T))\n",
    "show(A(T)(F))\n",
    "show(O(T)(F))"
   ]
  },
  {
   "cell_type": "markdown",
   "id": "32db5924",
   "metadata": {},
   "source": [
    "## 对自然数编码\n",
    "\n",
    "既然能用函数对逻辑运算编码，当然也可以对自然数编码，我们通过如下方式定义：\n",
    "\n",
    "- 每个自然数都是一个函数，它的输入和输出都是函数\n",
    "- 函数0对于任何输入$f(\\cdot)$，输出都是一个恒等函数$x\\to x$\n",
    "- 函数1对于输入$f(\\cdot)$，返回$f$本身\n",
    "- 函数2对于输入$f(\\cdot)$，返回$f$的二阶函数$f(f(\\cdot))$"
   ]
  },
  {
   "cell_type": "code",
   "execution_count": 17,
   "id": "e0c7f434",
   "metadata": {},
   "outputs": [],
   "source": [
    "def  ZERO(f): return lambda x: x\n",
    "def   ONE(f): return lambda x: f(x)\n",
    "def   TWO(f): return lambda x: f(f(x))\n",
    "def THREE(f): return lambda x: f(f(f(x)))\n",
    "def  FOUR(f): return lambda x: f(f(f(f(x))))\n",
    "def  FIVE(f): return lambda x: f(f(f(f(f(x)))))\n",
    "def   SIX(f): return lambda x: f(f(f(f(f(f(x))))))"
   ]
  },
  {
   "cell_type": "code",
   "execution_count": 18,
   "id": "df8804fe",
   "metadata": {},
   "outputs": [
    {
     "name": "stdout",
     "output_type": "stream",
     "text": [
      "Hello,\n",
      "Hello, World\n",
      "Hello, World World\n",
      "Hello, World World World\n",
      "Hello, World World World World\n",
      "Hello, World World World World World\n",
      "Hello, World World World World World World\n"
     ]
    }
   ],
   "source": [
    "hi = lambda x: x + ' World'\n",
    "x = 'Hello,'\n",
    "\n",
    "print(ZERO(hi)(x))\n",
    "print(ONE(hi)(x))\n",
    "print(TWO(hi)(x))\n",
    "print(THREE(hi)(x))\n",
    "print(FOUR(hi)(x))\n",
    "print(FIVE(hi)(x))\n",
    "print(SIX(hi)(x))"
   ]
  },
  {
   "cell_type": "markdown",
   "id": "da50d4d5",
   "metadata": {},
   "source": [
    "如果我们定义零元为0，每一个后继就是前驱元素+1，那么就能得到常规形式的自然数："
   ]
  },
  {
   "cell_type": "code",
   "execution_count": 19,
   "id": "28dd4dbc",
   "metadata": {},
   "outputs": [
    {
     "name": "stdout",
     "output_type": "stream",
     "text": [
      "0\n",
      "1\n",
      "2\n",
      "3\n"
     ]
    }
   ],
   "source": [
    "def Num(x):\n",
    "    return x + 1\n",
    "x = 0\n",
    "print(ZERO(Num)(x))\n",
    "print(ONE(Num)(x))\n",
    "print(TWO(Num)(x))\n",
    "print(THREE(Num)(x))"
   ]
  },
  {
   "cell_type": "markdown",
   "id": "24df9544",
   "metadata": {},
   "source": [
    "我们借此将函数版的自然数转化成常规形式的自然数"
   ]
  },
  {
   "cell_type": "code",
   "execution_count": 20,
   "id": "e1d20a77",
   "metadata": {},
   "outputs": [
    {
     "name": "stdout",
     "output_type": "stream",
     "text": [
      "0\n",
      "1\n",
      "2\n",
      "3\n"
     ]
    }
   ],
   "source": [
    "def show(x):\n",
    "    print(x(lambda x: x+1)(0))\n",
    "\n",
    "show(ZERO)\n",
    "show(ONE)\n",
    "show(TWO)\n",
    "show(THREE)"
   ]
  },
  {
   "cell_type": "markdown",
   "id": "f3f86644",
   "metadata": {},
   "source": [
    "### Next Number\n",
    "\n",
    "显然，我们不可能手动定义所有的自然数函数，因此我们需要定义一个\"后继函数\"：对于任意一个自然数`A`，我们定义它的后继为 `NEXT(A)`。\n",
    "\n",
    "我们可以先写出一个非柯里化版本："
   ]
  },
  {
   "cell_type": "code",
   "execution_count": 21,
   "id": "61bbd505",
   "metadata": {},
   "outputs": [
    {
     "name": "stdout",
     "output_type": "stream",
     "text": [
      "I want: fish fish fish fish\n"
     ]
    }
   ],
   "source": [
    "def NEXT(A,f,x):\n",
    "    return f(A(f)(x))\n",
    "\n",
    "fish = lambda x: x + ' fish'\n",
    "x = 'I want:'\n",
    "print(NEXT(THREE,fish,x))"
   ]
  },
  {
   "cell_type": "markdown",
   "id": "53f03a1e",
   "metadata": {},
   "source": [
    "如果要柯里化，那么我们可以使用前面定义的`curry`函数："
   ]
  },
  {
   "cell_type": "code",
   "execution_count": 22,
   "id": "6d28452e",
   "metadata": {},
   "outputs": [
    {
     "name": "stdout",
     "output_type": "stream",
     "text": [
      "I want: fish fish fish fish\n",
      "4\n"
     ]
    }
   ],
   "source": [
    "NEXT_c = curry(NEXT)\n",
    "print(NEXT_c(THREE)(fish)(x))\n",
    "show(NEXT_c(THREE))"
   ]
  },
  {
   "cell_type": "markdown",
   "id": "23987d3a",
   "metadata": {},
   "source": [
    "手写柯里化版本也很简单："
   ]
  },
  {
   "cell_type": "code",
   "execution_count": 23,
   "id": "b77e8830",
   "metadata": {},
   "outputs": [
    {
     "name": "stdout",
     "output_type": "stream",
     "text": [
      "4\n"
     ]
    }
   ],
   "source": [
    "def NEXT(A):\n",
    "    return lambda f: lambda x: f(A(f)(x))\n",
    "\n",
    "show(NEXT(THREE))"
   ]
  },
  {
   "cell_type": "markdown",
   "id": "74dbf6ed",
   "metadata": {},
   "source": [
    "### 加法\n",
    "我们要计算`A+B`，以A为起点，计算B次NEXT即可"
   ]
  },
  {
   "cell_type": "code",
   "execution_count": 24,
   "id": "c9ad5744",
   "metadata": {},
   "outputs": [
    {
     "name": "stdout",
     "output_type": "stream",
     "text": [
      "5\n"
     ]
    }
   ],
   "source": [
    "def ADD(A,B):\n",
    "    return B(NEXT)(A)\n",
    "\n",
    "show(ADD(TWO,THREE))"
   ]
  },
  {
   "cell_type": "markdown",
   "id": "e3173090",
   "metadata": {},
   "source": [
    "显然我们的加法是满足交换律的"
   ]
  },
  {
   "cell_type": "code",
   "execution_count": 25,
   "id": "ec6aa3f5",
   "metadata": {},
   "outputs": [
    {
     "name": "stdout",
     "output_type": "stream",
     "text": [
      "6\n",
      "6\n",
      "6\n",
      "6\n",
      "6\n",
      "6\n"
     ]
    }
   ],
   "source": [
    "show(ADD(ZERO,SIX))\n",
    "show(ADD(ONE,FIVE))\n",
    "show(ADD(TWO,FOUR))\n",
    "show(ADD(THREE,THREE))\n",
    "show(ADD(FOUR,TWO))\n",
    "show(ADD(FIVE,ONE))"
   ]
  },
  {
   "cell_type": "markdown",
   "id": "c017e612",
   "metadata": {},
   "source": [
    "### 乘法\n",
    "要计算`A*B`，那么只需累加A次`B(f)`即可"
   ]
  },
  {
   "cell_type": "code",
   "execution_count": 26,
   "id": "de566749",
   "metadata": {},
   "outputs": [
    {
     "name": "stdout",
     "output_type": "stream",
     "text": [
      "12\n",
      "12\n"
     ]
    }
   ],
   "source": [
    "def MULTIPLY(A,B):\n",
    "    return lambda f: A(B(f))\n",
    "\n",
    "show(MULTIPLY(FOUR,THREE))\n",
    "show(MULTIPLY(THREE,FOUR))"
   ]
  },
  {
   "cell_type": "markdown",
   "id": "709db372",
   "metadata": {},
   "source": [
    "另一种思路是执行A次`ADD(0,B)`"
   ]
  },
  {
   "cell_type": "code",
   "execution_count": 27,
   "id": "296c49c0",
   "metadata": {},
   "outputs": [
    {
     "name": "stdout",
     "output_type": "stream",
     "text": [
      "12\n",
      "12\n"
     ]
    }
   ],
   "source": [
    "def MULTIPLY(A,B):\n",
    "    def ADD_B(C):\n",
    "        return ADD(C,B)\n",
    "    return A(ADD_B)(ZERO)\n",
    "\n",
    "show(MULTIPLY(FOUR,THREE))\n",
    "show(MULTIPLY(THREE,FOUR))"
   ]
  },
  {
   "cell_type": "markdown",
   "id": "21cbc704",
   "metadata": {},
   "source": [
    "### 指数\n",
    "`A**B` 就是将A重复执行B次"
   ]
  },
  {
   "cell_type": "code",
   "execution_count": 28,
   "id": "2a817298",
   "metadata": {},
   "outputs": [
    {
     "name": "stdout",
     "output_type": "stream",
     "text": [
      "64\n",
      "81\n"
     ]
    }
   ],
   "source": [
    "def POWER(A,B):\n",
    "    return B(A)\n",
    "\n",
    "show(POWER(FOUR,THREE))\n",
    "show(POWER(THREE,FOUR))"
   ]
  },
  {
   "cell_type": "markdown",
   "id": "c8069543",
   "metadata": {},
   "source": [
    "### 减法\n",
    "\n",
    "关于减法，这并非一件简单的事情，我们首先要考虑的问题是怎么计算 `N-ONE`，也就是找到A的前驱，除非我们知道`f`的逆函数，并且逆是唯一的。\n",
    "\n",
    "但对于一般的情况，我们的做法是定义一个函数\n",
    "$$\n",
    "\\Phi  \\ : \\ (a,b) \\ \\to \\ (b,b+1)\n",
    "$$\n",
    "对于`(ZERO,ZERO)`作用N次就得到了\n",
    "$$\n",
    "\\Phi^{N}  \\ : \\ (0,0) \\ \\to \\ (N-1,N)\n",
    "$$\n",
    "我们取第一个元素就得到了`N-ONE`"
   ]
  },
  {
   "cell_type": "code",
   "execution_count": 29,
   "id": "8a7ee1a2",
   "metadata": {},
   "outputs": [
    {
     "name": "stdout",
     "output_type": "stream",
     "text": [
      "3\n"
     ]
    }
   ],
   "source": [
    "def PAIR(A,B):\n",
    "    return lambda P: P(A,B)\n",
    "\n",
    "def PHI(P):\n",
    "    B = P(FALSE)\n",
    "    return PAIR(B,NEXT(B))\n",
    "    \n",
    "def PRIOR(N):\n",
    "    PHI_N = POWER(PHI,N)\n",
    "    return PHI_N(PAIR(ZERO,ZERO))(TRUE)\n",
    "\n",
    "show(PRIOR(FOUR))"
   ]
  },
  {
   "cell_type": "markdown",
   "id": "72b2f44d",
   "metadata": {},
   "source": [
    "在定义了前驱之后，就可以类似于加法一样定义减法了"
   ]
  },
  {
   "cell_type": "code",
   "execution_count": 30,
   "id": "5551fa4c",
   "metadata": {},
   "outputs": [
    {
     "name": "stdout",
     "output_type": "stream",
     "text": [
      "4\n",
      "13\n"
     ]
    }
   ],
   "source": [
    "def SUBTRACT(A,B):\n",
    "    return B(PRIOR)(A)\n",
    "\n",
    "show(SUBTRACT(SIX,TWO))\n",
    "show(SUBTRACT(POWER(TWO,FOUR),THREE))"
   ]
  },
  {
   "cell_type": "markdown",
   "id": "43e8e426",
   "metadata": {},
   "source": [
    "当然，这也存在着一些问题，因为我们是从零元开始的，并没有定义零元之前的\"负数\"，因此用小数减大数得到的依然为零元"
   ]
  },
  {
   "cell_type": "code",
   "execution_count": 31,
   "id": "2932b7b6",
   "metadata": {},
   "outputs": [
    {
     "name": "stdout",
     "output_type": "stream",
     "text": [
      "0\n"
     ]
    }
   ],
   "source": [
    "show(SUBTRACT(TWO,SIX))"
   ]
  },
  {
   "cell_type": "markdown",
   "id": "f8ec899e",
   "metadata": {},
   "source": [
    "### 判断零元\n",
    "\n",
    "由零函数的定义可知，对于任何`f`，都有`ZERO(f)(x)==x`"
   ]
  },
  {
   "cell_type": "code",
   "execution_count": 32,
   "id": "0496580b",
   "metadata": {},
   "outputs": [
    {
     "name": "stdout",
     "output_type": "stream",
     "text": [
      "Hello,\n",
      "Hello, world\n",
      "Hello, world world\n",
      "Hello, world world world\n"
     ]
    }
   ],
   "source": [
    "f = lambda x: x + ' world'\n",
    "x = 'Hello,'\n",
    "print(ZERO(f)(x))\n",
    "print(ONE(f)(x))\n",
    "print(TWO(f)(x))\n",
    "print(THREE(f)(x))"
   ]
  },
  {
   "cell_type": "markdown",
   "id": "b2abf54c",
   "metadata": {},
   "source": [
    "因此我们可以让`f`总是返回FALSE，让x为TRUE，那么只有零函数会返回TRUE，其他自然数都返回FALSE"
   ]
  },
  {
   "cell_type": "code",
   "execution_count": 33,
   "id": "fc3d4a0a",
   "metadata": {},
   "outputs": [
    {
     "name": "stdout",
     "output_type": "stream",
     "text": [
      "<function TRUE at 0x1064e5550>\n",
      "<function FALSE at 0x1064e5310>\n",
      "<function FALSE at 0x1064e5310>\n",
      "<function FALSE at 0x1064e5310>\n"
     ]
    }
   ],
   "source": [
    "f = lambda x: FALSE\n",
    "x = TRUE\n",
    "print(ZERO(f)(x))\n",
    "print(ONE(f)(x))\n",
    "print(TWO(f)(x))\n",
    "print(THREE(f)(x))"
   ]
  },
  {
   "cell_type": "markdown",
   "id": "523b987b",
   "metadata": {},
   "source": [
    "据此可写出判断零元的函数"
   ]
  },
  {
   "cell_type": "code",
   "execution_count": 34,
   "id": "521517f3",
   "metadata": {},
   "outputs": [
    {
     "name": "stdout",
     "output_type": "stream",
     "text": [
      "TRUE\n",
      "FALSE\n",
      "FALSE\n",
      "FALSE\n"
     ]
    }
   ],
   "source": [
    "def ISZERO(N):\n",
    "    f = lambda x: FALSE\n",
    "    return N(f)(TRUE)\n",
    "\n",
    "print(ISZERO(ZERO).__name__)\n",
    "print(ISZERO(ONE).__name__)\n",
    "print(ISZERO(TWO).__name__)\n",
    "print(ISZERO(THREE).__name__)"
   ]
  },
  {
   "cell_type": "markdown",
   "id": "e277e664",
   "metadata": {},
   "source": [
    "### 递归\n",
    "\n",
    "假如我们要写一个阶乘函数"
   ]
  },
  {
   "cell_type": "code",
   "execution_count": 35,
   "id": "1bb1991f",
   "metadata": {},
   "outputs": [
    {
     "name": "stdout",
     "output_type": "stream",
     "text": [
      "6\n"
     ]
    }
   ],
   "source": [
    "from math import factorial\n",
    "def fact(n):\n",
    "    if n == 0:\n",
    "        return 1\n",
    "    else:\n",
    "        return n*fact(n-1)\n",
    "\n",
    "print(fact(3))\n",
    "assert fact(9) == factorial(9)"
   ]
  },
  {
   "cell_type": "markdown",
   "id": "63ec16d0",
   "metadata": {},
   "source": [
    "如果要写成函数形式，首先要考虑的是怎么实现if else这样的流程控制。\n",
    "\n",
    "如果`N==ZERO`，那么`ISZERO(N)`就会等价于`TRUE`，而`TRUE(ONE,n*f(n-1))`会返回`ONE`。\n",
    "\n",
    "因此 `ISZERO(N)(ONE,n*f(n-1))` 就完成了流程控制。"
   ]
  },
  {
   "cell_type": "code",
   "execution_count": 36,
   "id": "e89c43ef",
   "metadata": {},
   "outputs": [
    {
     "name": "stdout",
     "output_type": "stream",
     "text": [
      "RecursionError('maximum recursion depth exceeded')\n"
     ]
    }
   ],
   "source": [
    "def FACT(N):\n",
    "    return ISZERO(N)(ONE,MULTIPLY(N,FACT(SUBTRACT(N,ONE))))\n",
    "\n",
    "try:\n",
    "    show(FACT(THREE))\n",
    "except Exception as e:\n",
    "    print(repr(e))"
   ]
  },
  {
   "cell_type": "markdown",
   "id": "18117a9a",
   "metadata": {},
   "source": [
    "但在实际运行时，可以看到我们的函数出现了无限循环的问题，这是因为Python并不是惰性求值(lazy evaluation)的，它会先计算参数，再把参数的值代入函数"
   ]
  },
  {
   "cell_type": "code",
   "execution_count": 37,
   "id": "a6b9c35d",
   "metadata": {},
   "outputs": [
    {
     "name": "stdout",
     "output_type": "stream",
     "text": [
      "ZeroDivisionError('division by zero')\n"
     ]
    }
   ],
   "source": [
    "def f(a,b):\n",
    "    return a\n",
    "\n",
    "try:\n",
    "    f(1,1/0)\n",
    "except Exception as e:\n",
    "    print(repr(e))"
   ]
  },
  {
   "cell_type": "markdown",
   "id": "3301fc71",
   "metadata": {},
   "source": [
    "在上面这个例子中，虽然我们并不需要参数b，但Python仍会先计算b=1/0，此时就返回了错误。\n",
    "\n",
    "避免这种情况出现的方法就是，不直接传入参数，而是传入返回参数的函数:"
   ]
  },
  {
   "cell_type": "code",
   "execution_count": 38,
   "id": "82baddb0",
   "metadata": {},
   "outputs": [
    {
     "data": {
      "text/plain": [
       "1"
      ]
     },
     "execution_count": 38,
     "metadata": {},
     "output_type": "execute_result"
    }
   ],
   "source": [
    "def f(a,b):\n",
    "    return a()\n",
    "\n",
    "f(lambda: 1, lambda: 1/0)"
   ]
  },
  {
   "cell_type": "markdown",
   "id": "49f94b9a",
   "metadata": {},
   "source": [
    "此时Python计算的步骤为：\n",
    "\n",
    "1. `a=lambda: 1`\n",
    "2. `b=lambda: 1/0`\n",
    "3. `a()=1`\n",
    "4. `return 1`\n",
    "\n",
    "\n",
    "使用类似的方法对我们的原函数进行一些小改造，最终就能正常进行了"
   ]
  },
  {
   "cell_type": "code",
   "execution_count": 39,
   "id": "7bd5e60e",
   "metadata": {},
   "outputs": [
    {
     "name": "stdout",
     "output_type": "stream",
     "text": [
      "6\n"
     ]
    }
   ],
   "source": [
    "LAZY_TRUE = lambda x,y: x()\n",
    "LAZY_FALSE = lambda x,y: y()\n",
    "LAZY_ISZERO = lambda N: N(lambda _: LAZY_FALSE)(LAZY_TRUE)\n",
    "\n",
    "def FACT(N):\n",
    "    return LAZY_ISZERO(N)(lambda: ONE,lambda: MULTIPLY(N,FACT(SUBTRACT(N,ONE))))\n",
    "\n",
    "show(FACT(THREE))"
   ]
  },
  {
   "cell_type": "markdown",
   "id": "e91fc822",
   "metadata": {},
   "source": [
    "## Y combinator\n",
    "\n",
    "如果我告诉你Y combinator的定义如下\n",
    "$$\n",
    "Y = \\lambda f . ( \\lambda x. f( x (x) ) ) ( \\lambda x. f( x (x) ) )\n",
    "$$\n",
    "那你肯定就开始怀疑下面的内容是否能看懂，别担心，其实很简单，忘记上面这个公式继续往下看吧。\n",
    "\n",
    "### 依然是阶乘函数\n",
    "\n",
    "在上面的例子中，我们是这样定义阶乘函数的："
   ]
  },
  {
   "cell_type": "code",
   "execution_count": 40,
   "id": "86c32429",
   "metadata": {},
   "outputs": [
    {
     "data": {
      "text/plain": [
       "6"
      ]
     },
     "execution_count": 40,
     "metadata": {},
     "output_type": "execute_result"
    }
   ],
   "source": [
    "def fact(n):\n",
    "    if n == 0:\n",
    "        return 1\n",
    "    else:\n",
    "        return n*fact(n-1)\n",
    "\n",
    "fact(3)"
   ]
  },
  {
   "cell_type": "markdown",
   "id": "6c80f776",
   "metadata": {},
   "source": [
    "对于熟练掌握递归的人来说，这样貌似是非常理所当然的，但实际想一想，多少有点不可思议，因为我们在定义`fact`函数的过程中，居然用到了`fact`本身！\n",
    "\n",
    "熟悉数理逻辑的人都会对自指（self-reference）满怀敬畏之心：\n",
    "- 罗素使用了自指，引发了第三次数学危机\n",
    "- 哥德尔使用了自指，得出了哥德尔不完备定理\n",
    "- 图灵使用了自指，提出了停机测试悖论\n",
    "\n",
    "为了更好地理解递归，我们现在要避免在完整定义`fact`之前调用`fact`。\n",
    "\n",
    "那么我们将函数内部的`fact`替换成`f`，这里的`f`就是我们需要的阶乘函数：\n",
    "\n",
    "```python\n",
    "def fact(n):\n",
    "    if n == 0:\n",
    "        return 1\n",
    "    else:\n",
    "        return n*f(n-1)\n",
    "```\n",
    "\n",
    "但乍一看，这个`f`是凭空出现的，因此为了提供`f`，我们给`fact`再添加一个参数："
   ]
  },
  {
   "cell_type": "code",
   "execution_count": 41,
   "id": "3934197a",
   "metadata": {},
   "outputs": [],
   "source": [
    "def fact(f,n):\n",
    "    if n == 0:\n",
    "        return 1\n",
    "    else:\n",
    "        return n*f(n-1)"
   ]
  },
  {
   "cell_type": "markdown",
   "id": "ef045873",
   "metadata": {},
   "source": [
    "这样的定义是可行的吗？\n",
    "\n",
    "如果我们调用`fact(3)`肯定不对，因为`fact`有两个参数要输入。\n",
    "\n",
    "调用`fact(f,3)`也不对，`f`还是没有定义，既然`f`就是`fact`，那么我们尝试调用`fact(fact,3)`"
   ]
  },
  {
   "cell_type": "code",
   "execution_count": 42,
   "id": "9371578f",
   "metadata": {},
   "outputs": [
    {
     "ename": "TypeError",
     "evalue": "fact() missing 1 required positional argument: 'n'",
     "output_type": "error",
     "traceback": [
      "\u001b[0;31m---------------------------------------------------------------------------\u001b[0m",
      "\u001b[0;31mTypeError\u001b[0m                                 Traceback (most recent call last)",
      "\u001b[0;32m/var/folders/1y/8ypw_bc55x5d69n0rnzpwxjr0000gn/T/ipykernel_25288/2401241230.py\u001b[0m in \u001b[0;36m<module>\u001b[0;34m\u001b[0m\n\u001b[0;32m----> 1\u001b[0;31m \u001b[0mfact\u001b[0m\u001b[0;34m(\u001b[0m\u001b[0mfact\u001b[0m\u001b[0;34m,\u001b[0m\u001b[0;36m3\u001b[0m\u001b[0;34m)\u001b[0m\u001b[0;34m\u001b[0m\u001b[0;34m\u001b[0m\u001b[0m\n\u001b[0m",
      "\u001b[0;32m/var/folders/1y/8ypw_bc55x5d69n0rnzpwxjr0000gn/T/ipykernel_25288/901191219.py\u001b[0m in \u001b[0;36mfact\u001b[0;34m(f, n)\u001b[0m\n\u001b[1;32m      3\u001b[0m         \u001b[0;32mreturn\u001b[0m \u001b[0;36m1\u001b[0m\u001b[0;34m\u001b[0m\u001b[0;34m\u001b[0m\u001b[0m\n\u001b[1;32m      4\u001b[0m     \u001b[0;32melse\u001b[0m\u001b[0;34m:\u001b[0m\u001b[0;34m\u001b[0m\u001b[0;34m\u001b[0m\u001b[0m\n\u001b[0;32m----> 5\u001b[0;31m         \u001b[0;32mreturn\u001b[0m \u001b[0mn\u001b[0m\u001b[0;34m*\u001b[0m\u001b[0mf\u001b[0m\u001b[0;34m(\u001b[0m\u001b[0mn\u001b[0m\u001b[0;34m-\u001b[0m\u001b[0;36m1\u001b[0m\u001b[0;34m)\u001b[0m\u001b[0;34m\u001b[0m\u001b[0;34m\u001b[0m\u001b[0m\n\u001b[0m",
      "\u001b[0;31mTypeError\u001b[0m: fact() missing 1 required positional argument: 'n'"
     ]
    }
   ],
   "source": [
    "fact(fact,3)"
   ]
  },
  {
   "cell_type": "markdown",
   "id": "3ab92c92",
   "metadata": {},
   "source": [
    "可以看到我们的第5行中，`f(n-1)`出现了问题，因为此时其实是`fact(n-1)`，而`fact`是需要两个参数的，因此我们将其改为`f(f,n-1)`"
   ]
  },
  {
   "cell_type": "code",
   "execution_count": 43,
   "id": "20316e67",
   "metadata": {},
   "outputs": [],
   "source": [
    "def fact(f,n):\n",
    "    if n == 0:\n",
    "        return 1\n",
    "    else:\n",
    "        return n*f(f,n-1)"
   ]
  },
  {
   "cell_type": "code",
   "execution_count": 44,
   "id": "45b58c91",
   "metadata": {},
   "outputs": [
    {
     "data": {
      "text/plain": [
       "6"
      ]
     },
     "execution_count": 44,
     "metadata": {},
     "output_type": "execute_result"
    }
   ],
   "source": [
    "fact(fact,3)"
   ]
  },
  {
   "cell_type": "markdown",
   "id": "d9a10fa2",
   "metadata": {},
   "source": [
    "这回终于正确了，但其实我们想要的阶乘函数应该是`fact(3)=6`，于是我们可以稍微修改一下："
   ]
  },
  {
   "cell_type": "code",
   "execution_count": 45,
   "id": "585cf02d",
   "metadata": {},
   "outputs": [
    {
     "data": {
      "text/plain": [
       "6"
      ]
     },
     "execution_count": 45,
     "metadata": {},
     "output_type": "execute_result"
    }
   ],
   "source": [
    "def F(f,n):\n",
    "    if n == 0:\n",
    "        return 1\n",
    "    else:\n",
    "        return n*f(f,n-1)\n",
    "fact = lambda n: F(F,n)\n",
    "fact(3)"
   ]
  },
  {
   "cell_type": "markdown",
   "id": "8816d52f",
   "metadata": {},
   "source": [
    "将其柯里化得到"
   ]
  },
  {
   "cell_type": "code",
   "execution_count": 46,
   "id": "b05e47bc",
   "metadata": {},
   "outputs": [],
   "source": [
    "F = lambda f: lambda n: 1 if n==0 else n*f(f)(n-1)\n",
    "fact = F(F)\n",
    "fact(3)\n",
    "assert fact(9) == factorial(9)"
   ]
  },
  {
   "cell_type": "markdown",
   "id": "f77bc26e",
   "metadata": {},
   "source": [
    "让我们回到最初的定义："
   ]
  },
  {
   "cell_type": "code",
   "execution_count": 47,
   "id": "73ff307b",
   "metadata": {},
   "outputs": [
    {
     "data": {
      "text/plain": [
       "24"
      ]
     },
     "execution_count": 47,
     "metadata": {},
     "output_type": "execute_result"
    }
   ],
   "source": [
    "fact = (lambda f: lambda n: 1 if n==0 else n*f(n-1))(fact)\n",
    "fact(4)"
   ]
  },
  {
   "cell_type": "markdown",
   "id": "b624ce0d",
   "metadata": {},
   "source": [
    "如果我们用`R`来代替`lambda f: lambda n: 1 if n==0 else n*f(n-1)`，那么就有 `fact = R(fact)`，`fact`就是`R`的一个不动点"
   ]
  },
  {
   "cell_type": "code",
   "execution_count": 48,
   "id": "54ec1c49",
   "metadata": {},
   "outputs": [
    {
     "data": {
      "text/plain": [
       "24"
      ]
     },
     "execution_count": 48,
     "metadata": {},
     "output_type": "execute_result"
    }
   ],
   "source": [
    "R = lambda f: lambda n: 1 if n==0 else n*f(n-1)\n",
    "fact = R(fact)\n",
    "fact(4)"
   ]
  },
  {
   "cell_type": "markdown",
   "id": "b903ab77",
   "metadata": {},
   "source": [
    "假设我们有一个函数`Y(R)`，可以计算出`R`的不动点，即`Y(R) = R(Y(R))`\n",
    "```\n",
    "F    = lambda f: lambda n: 1 if n==0 else n*f(f)(n-1)\n",
    "F(F) =           lambda n: 1 if n==0 else n*F(F)(n-1)\n",
    "fact =           lambda n: 1 if n==0 else n*fact(n-1)\n",
    "<==> fact = F(F)\n",
    "\n",
    "fact = (lambda f: lambda n: 1 if n==0 else n*f(n-1))(fact)\n",
    "R    = lambda f: lambda n: 1 if n==0 else n*f(n-1)\n",
    "<==> fact = R(fact)\n",
    "\n",
    "F(x) = lambda f: lambda n: 1 if n==0 else n*f(f)(n-1) (x)\n",
    "     =           lambda n: 1 if n==0 else n*x(x)(n-1)\n",
    "     = R(x(x))\n",
    "<==> F = lambda x: R(x(x))\n",
    "\n",
    "Y(R) = fact\n",
    "     = R(fact)\n",
    "     = R(F(F))\n",
    "<==> Y(R) = R(F(F))\n",
    "```\n",
    "通过这些恒等式，我们可以通过`R(F(F))`来构建`Y(R)=fact`"
   ]
  },
  {
   "cell_type": "code",
   "execution_count": 49,
   "id": "d7f700dd",
   "metadata": {},
   "outputs": [
    {
     "name": "stdout",
     "output_type": "stream",
     "text": [
      "RecursionError('maximum recursion depth exceeded')\n"
     ]
    }
   ],
   "source": [
    "R = lambda f: lambda n: 1 if n==0 else n*f(n-1)\n",
    "F = lambda x: R(x(x))\n",
    "Y = lambda R: R(F(F))\n",
    "\n",
    "try:\n",
    "    fact = Y(R)\n",
    "except Exception as e:\n",
    "    print(repr(e))"
   ]
  },
  {
   "cell_type": "markdown",
   "id": "00217c65",
   "metadata": {},
   "source": [
    "依然是因为惰性求值的问题，我们把 `x(x)` 换成 `lambda z: x(x)(z)`，延后计算 x 的值。"
   ]
  },
  {
   "cell_type": "code",
   "execution_count": 50,
   "id": "265abba6",
   "metadata": {},
   "outputs": [
    {
     "data": {
      "text/plain": [
       "24"
      ]
     },
     "execution_count": 50,
     "metadata": {},
     "output_type": "execute_result"
    }
   ],
   "source": [
    "R = lambda f: lambda n: 1 if n==0 else n*f(n-1)\n",
    "F = lambda x: R(lambda z: x(x)(z))\n",
    "Y = lambda R: R(F(F))\n",
    "fact = Y(R)\n",
    "\n",
    "fact(4)"
   ]
  },
  {
   "cell_type": "markdown",
   "id": "16b8aba5",
   "metadata": {},
   "source": [
    "### 一般形式\n",
    "\n",
    "对于一般的情况，我们怎么计算$f$的不动点呢？\n",
    "\n",
    "首先定义一个\n",
    "$$\n",
    "F(x)=f(x(x))\n",
    "$$\n",
    "于是有 $F(F)=f(F(F))$，然后如下定义即可\n",
    "$$\n",
    "Y(f) = F(F)\n",
    "$$\n",
    "\n",
    "证明：\n",
    "$$\n",
    "\\begin{aligned}\n",
    "Y(f) &= F(F) \\\\\n",
    "   &= f(F(F))\\\\\n",
    "   &= f(Y(f))\\\\\n",
    "\\end{aligned}\n",
    "$$\n",
    "于是可知 $Y(f)$ 是 $f$ 的不动点。"
   ]
  },
  {
   "cell_type": "code",
   "execution_count": 51,
   "id": "6c891fd2",
   "metadata": {},
   "outputs": [],
   "source": [
    "def Y(f):\n",
    "    F = lambda x: f(lambda z: x(x)(z))\n",
    "    return F(F)"
   ]
  },
  {
   "cell_type": "markdown",
   "id": "4c5c098b",
   "metadata": {},
   "source": [
    "我们还可以试着计算一下斐波拉契数列："
   ]
  },
  {
   "cell_type": "code",
   "execution_count": 52,
   "id": "936469f6",
   "metadata": {},
   "outputs": [
    {
     "name": "stdout",
     "output_type": "stream",
     "text": [
      "1\n",
      "1\n",
      "2\n",
      "3\n",
      "5\n",
      "8\n",
      "13\n",
      "21\n",
      "34\n"
     ]
    }
   ],
   "source": [
    "def Fib(n):\n",
    "    if n==1 or n==2:\n",
    "        return 1\n",
    "    else:\n",
    "        return Fib(n-1)+Fib(n-2)\n",
    "\n",
    "for i in range(1,10):\n",
    "    print(Fib(i))"
   ]
  },
  {
   "cell_type": "code",
   "execution_count": 53,
   "id": "c4cb5954",
   "metadata": {},
   "outputs": [
    {
     "name": "stdout",
     "output_type": "stream",
     "text": [
      "1\n",
      "1\n",
      "2\n",
      "3\n",
      "5\n",
      "8\n",
      "13\n",
      "21\n",
      "34\n"
     ]
    }
   ],
   "source": [
    "R = lambda f: lambda n: 1 if n==1 or n==2 else f(n-1)+f(n-2)\n",
    "fib = Y(R)\n",
    "for i in range(1,10):\n",
    "    print(fib(i))"
   ]
  },
  {
   "cell_type": "markdown",
   "id": "97d02d45",
   "metadata": {},
   "source": [
    "## Reference\n",
    "1. [康托尔、哥德尔、图灵——永恒的金色对角线(rev#2) – 刘未鹏 | Mind Hacks](http://mindhacks.cn/2006/10/15/cantor-godel-turing-an-eternal-golden-diagonal/)\n",
    "2. [A Tutorial Introduction to the Lambda Calculus](http://www.inf.fu-berlin.de/lehre/WS03/alpi/lambda.pdf)\n",
    "3. [从零开始的 λ 演算 | weirane’s blog](https://blog.ruo-chen.wang/2021/04/lambda-calculus-from-the-ground-up.html)\n",
    "4. [David Beazley - Lambda Calculus from the Ground Up - PyCon 2019 - YouTube](https://www.youtube.com/watch?v=pkCLMl0e_0k&ab_channel=PyCon2019)\n",
    "5. [GitHub - orsinium-labs/python-lambda-calculus: Lambda Calculus things implemented on Python](https://github.com/orsinium-labs/python-lambda-calculus)"
   ]
  }
 ],
 "metadata": {
  "kernelspec": {
   "display_name": "Python 3 (ipykernel)",
   "language": "python",
   "name": "python3"
  },
  "language_info": {
   "codemirror_mode": {
    "name": "ipython",
    "version": 3
   },
   "file_extension": ".py",
   "mimetype": "text/x-python",
   "name": "python",
   "nbconvert_exporter": "python",
   "pygments_lexer": "ipython3",
   "version": "3.9.7"
  }
 },
 "nbformat": 4,
 "nbformat_minor": 5
}
